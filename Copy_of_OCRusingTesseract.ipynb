{
  "nbformat": 4,
  "nbformat_minor": 0,
  "metadata": {
    "colab": {
      "name": "Copy of OCRusingTesseract.ipynb",
      "provenance": [],
      "collapsed_sections": []
    },
    "kernelspec": {
      "name": "python2",
      "display_name": "Python 2"
    }
  },
  "cells": [
    {
      "cell_type": "code",
      "metadata": {
        "id": "uWwpI-24_Nob",
        "colab_type": "code",
        "colab": {
          "base_uri": "https://localhost:8080/",
          "height": 156
        },
        "outputId": "cd130f08-052a-4728-9b88-1d73778b7a57"
      },
      "source": [
        "!sudo apt install tesseract-ocr"
      ],
      "execution_count": null,
      "outputs": [
        {
          "output_type": "stream",
          "text": [
            "Reading package lists... Done\n",
            "Building dependency tree       \n",
            "Reading state information... Done\n",
            "tesseract-ocr is already the newest version (4.00~git2288-10f4998a-2).\n",
            "The following package was automatically installed and is no longer required:\n",
            "  libnvidia-common-440\n",
            "Use 'sudo apt autoremove' to remove it.\n",
            "0 upgraded, 0 newly installed, 0 to remove and 39 not upgraded.\n"
          ],
          "name": "stdout"
        }
      ]
    },
    {
      "cell_type": "code",
      "metadata": {
        "id": "ujL16dZ2_O-3",
        "colab_type": "code",
        "colab": {
          "base_uri": "https://localhost:8080/",
          "height": 69
        },
        "outputId": "b5455c6b-dd5a-44e6-aaae-db1ebddbd92c"
      },
      "source": [
        "!pip install pytesseract"
      ],
      "execution_count": null,
      "outputs": [
        {
          "output_type": "stream",
          "text": [
            "Requirement already satisfied: pytesseract in /usr/local/lib/python2.7/dist-packages (0.3.6)\n",
            "Requirement already satisfied: Pillow in /usr/local/lib/python2.7/dist-packages (from pytesseract) (4.3.0)\n",
            "Requirement already satisfied: olefile in /usr/local/lib/python2.7/dist-packages (from Pillow->pytesseract) (0.46)\n"
          ],
          "name": "stdout"
        }
      ]
    },
    {
      "cell_type": "code",
      "metadata": {
        "id": "QKJh7JjTAqzO",
        "colab_type": "code",
        "colab": {}
      },
      "source": [
        "import pytesseract\n",
        "import shutil\n",
        "import os\n",
        "import random\n",
        "try:\n",
        "    from PIL import Image\n",
        "except ImportError:\n",
        "    import Image"
      ],
      "execution_count": null,
      "outputs": []
    },
    {
      "cell_type": "code",
      "metadata": {
        "id": "Qb2o4KTks3rd",
        "colab_type": "code",
        "colab": {}
      },
      "source": [
        "extractedInformation = pytesseract.image_to_string(Image.open('/content/drive/My Drive/X00016469612.jpg'))"
      ],
      "execution_count": null,
      "outputs": []
    },
    {
      "cell_type": "code",
      "metadata": {
        "id": "2Vj_TBpYQ3rO",
        "colab_type": "code",
        "colab": {
          "base_uri": "https://localhost:8080/",
          "height": 35
        },
        "outputId": "1dcd3e00-b716-4769-bd58-f0c053f8d336"
      },
      "source": [
        "from google.colab import drive\n",
        "drive.mount('/content/drive')"
      ],
      "execution_count": null,
      "outputs": [
        {
          "output_type": "stream",
          "text": [
            "Drive already mounted at /content/drive; to attempt to forcibly remount, call drive.mount(\"/content/drive\", force_remount=True).\n"
          ],
          "name": "stdout"
        }
      ]
    },
    {
      "cell_type": "code",
      "metadata": {
        "id": "Key-3vILBNUd",
        "colab_type": "code",
        "colab": {
          "base_uri": "https://localhost:8080/",
          "height": 728
        },
        "outputId": "ebeeabdc-4872-4bf8-b0c0-cec7a10c6abf"
      },
      "source": [
        "print(extractedInformation)"
      ],
      "execution_count": null,
      "outputs": [
        {
          "output_type": "stream",
          "text": [
            "tan woon yann\n",
            "\n",
            "BOOK TA -K (TAMAN DAYA) SDN BHD\n",
            "PBONT-W\n",
            "NO.5? $5,57 & 59, JALAN SAGU 18,\n",
            "TAMAN DAYA\n",
            "81100 JOHOR BAHRU.\n",
            "JOHOR.\n",
            "\n",
            "LAM MITA A\n",
            "\n",
            "Document Ho : TDO1167104\n",
            "\n",
            " \n",
            "\n",
            " \n",
            "\n",
            "Date 25/12/2018 8:13:39 PM\n",
            "Cashier MANIS\n",
            "Member\n",
            "CASH BILL\n",
            "CODE/DESC PRICE Dise AMOUNT\n",
            "Quy RM RM\n",
            "9556929040118 AF MODELLING CLAY KIDDY FISH\n",
            "1PC + 9.00) 0,00 9.00\n",
            "Total : 9,00\n",
            "Rour ding Adjustment 0.00\n",
            "Round. :d Total (RM): 9.00\n",
            "Cash oy 40.00.\n",
            "CHANGE 00\n",
            "\n",
            "  \n",
            "\n",
            "GOODS SOLD ARE NOT RETURNAP\n",
            "EXCHANGEABLE\n",
            "\n",
            " \n",
            "\n",
            "THANK YOU\n",
            "PLEASE COME AGAIN t\n",
            "\f\n"
          ],
          "name": "stdout"
        }
      ]
    },
    {
      "cell_type": "code",
      "metadata": {
        "id": "ePTbfQw5GVCq",
        "colab_type": "code",
        "colab": {}
      },
      "source": [
        "import cv2\n",
        "from google.colab.patches import cv2_imshow"
      ],
      "execution_count": null,
      "outputs": []
    },
    {
      "cell_type": "code",
      "metadata": {
        "id": "aw9nJoeqBWZP",
        "colab_type": "code",
        "colab": {
          "base_uri": "https://localhost:8080/",
          "height": 277
        },
        "outputId": "850a848b-5590-4b46-b28d-5f1e16f57252"
      },
      "source": [
        "# Header Info\n",
        "\n",
        "image = cv2.imread('/content/drive/My Drive/X00016469612.jpg', 0)\n",
        "thresh = 255 - cv2.threshold(image, 0, 255, cv2.THRESH_BINARY_INV + cv2.THRESH_OTSU)[1]\n",
        "\n",
        "x,y,w,h = 72, 94, 353, 139\n",
        "ROI1 = thresh[y:y+h,x:x+w]\n",
        "data = pytesseract.image_to_string(ROI1, lang='eng',config='--psm 6')\n",
        "print(data)\n",
        "\n",
        "from google.colab.patches import cv2_imshow\n",
        "\n",
        "cv2_imshow(ROI1)\n"
      ],
      "execution_count": null,
      "outputs": [
        {
          "output_type": "stream",
          "text": [
            "BOOK TA -K (TAMAN DAYA) SDN SHD\n",
            "PRON AN\n",
            "NOLS? $5.57 & 84, JALAN SACU 10,\n",
            "TAMAN DAYA\n",
            "81100 JOWOR BAHRU,\n",
            "JOHOR\n",
            "\f\n"
          ],
          "name": "stdout"
        },
        {
          "output_type": "display_data",
          "data": {
            "image/png": "[encoded data removed]",
            "text/plain": [
              "<PIL.Image.Image image mode=L size=353x139 at 0x7FF24722B910>"
            ]
          },
          "metadata": {
            "tags": []
          }
        }
      ]
    },
    {
      "cell_type": "code",
      "metadata": {
        "id": "tuT6Jw1lMeS-",
        "colab_type": "code",
        "colab": {
          "base_uri": "https://localhost:8080/",
          "height": 72
        },
        "outputId": "f9dfbc4f-3de4-413b-f5f7-1e28e273a2cf"
      },
      "source": [
        "# Date Info\n",
        "\n",
        "x2,y2,w2,h2 = 50, 370, 295, 20\n",
        "ROI2 = thresh[y2:y2+h2,x2:x2+w2]\n",
        "data2 = pytesseract.image_to_string(ROI2, lang='eng',config='--psm 6')\n",
        "print(data2)\n",
        "cv2_imshow(ROI2)\n"
      ],
      "execution_count": null,
      "outputs": [
        {
          "output_type": "stream",
          "text": [
            "Date 25/2018 6 13.39 PH\n",
            "\f\n"
          ],
          "name": "stdout"
        },
        {
          "output_type": "display_data",
          "data": {
            "image/png": "[encoded data removed]",
            "text/plain": [
              "<PIL.Image.Image image mode=L size=295x20 at 0x7FF2471B6D50>"
            ]
          },
          "metadata": {
            "tags": []
          }
        }
      ]
    },
    {
      "cell_type": "code",
      "metadata": {
        "id": "cRq1X-77MeWQ",
        "colab_type": "code",
        "colab": {
          "base_uri": "https://localhost:8080/",
          "height": 72
        },
        "outputId": "c2a87c4d-7df8-4191-f48d-9ea524549c05"
      },
      "source": [
        "# Total Info\n",
        "\n",
        "x3,y3,w3,h3 = 86, 702, 365, 20\n",
        "ROI3 = thresh[y3:y3+h3,x3:x3+w3]\n",
        "data3 = pytesseract.image_to_string(ROI3, lang='eng',config='--psm 6')\n",
        "print(data3)\n",
        "cv2_imshow(ROI3)"
      ],
      "execution_count": null,
      "outputs": [
        {
          "output_type": "stream",
          "text": [
            "Round: -d Total (RM): 9.60\n",
            "\f\n"
          ],
          "name": "stdout"
        },
        {
          "output_type": "display_data",
          "data": {
            "image/png": "[encoded data removed]",
            "text/plain": [
              "<PIL.Image.Image image mode=L size=365x20 at 0x7FF23A25B610>"
            ]
          },
          "metadata": {
            "tags": []
          }
        }
      ]
    },
    {
      "cell_type": "code",
      "metadata": {
        "id": "wT8OhvMUC6FM",
        "colab_type": "code",
        "colab": {
          "base_uri": "https://localhost:8080/",
          "height": 521
        },
        "outputId": "f43ece48-2b09-4a78-a932-9e2334497a8b"
      },
      "source": [
        "import cv2\n",
        "import pytesseract\n",
        "\n",
        "\n",
        "\n",
        "image = cv2.imread('/content/drive/My Drive/amazon.jpg', 0)\n",
        "thresh = 255 - cv2.threshold(image, 0, 255, cv2.THRESH_BINARY_INV + cv2.THRESH_OTSU)[1]\n",
        "\n",
        "x,y,w,h = 457, 191, 757, 244\n",
        "ROI4 = thresh[y:y+h,x:x+w]\n",
        "data = pytesseract.image_to_string(ROI4, lang='eng',config='--psm 6')\n",
        "print(data)\n",
        "\n",
        "from google.colab.patches import cv2_imshow\n",
        "\n",
        "cv2_imshow(ROI4)"
      ],
      "execution_count": null,
      "outputs": [
        {
          "output_type": "stream",
          "text": [
            "John Doe\n",
            "\n",
            "36, Green Downtown, Golden Road, FL\n",
            "Shipping Address:\n",
            "\n",
            "John Doe\n",
            "\n",
            "36, Green Downtown, Golden Road, FL\n",
            "Invoice Number: FLR978298\n",
            "\n",
            "Invoice Details: FL9898DKEFD\n",
            "\n",
            "Involce Data: 19.06.2019\n",
            "ee ee\n",
            "\f\n"
          ],
          "name": "stdout"
        },
        {
          "output_type": "display_data",
          "data": {
            "image/png": "[encoded data removed]",
            "text/plain": [
              "<PIL.Image.Image image mode=L size=341x244 at 0x7FF22A758A10>"
            ]
          },
          "metadata": {
            "tags": []
          }
        }
      ]
    },
    {
      "cell_type": "code",
      "metadata": {
        "id": "VP33CoOv4JXd",
        "colab_type": "code",
        "colab": {}
      },
      "source": [
        "import pandas as pd\n",
        "dataset = pd.DataFrame(columns=['Header','Date', 'Total'])\n",
        "data.to_csv([\"data\", \"data2\", \"data3\"], header=[\"Header\", \"Date\", \"Total\"], index=False)"
      ],
      "execution_count": null,
      "outputs": []
    }
  ]
}